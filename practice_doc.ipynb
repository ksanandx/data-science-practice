{
 "cells": [
  {
   "cell_type": "markdown",
   "metadata": {},
   "source": [
    "# Getting started with python locally\n",
    "Starting with the basics"
   ]
  },
  {
   "cell_type": "code",
   "execution_count": 1,
   "metadata": {},
   "outputs": [],
   "source": [
    "my_numerical_list = [1,3,5,7,9]"
   ]
  },
  {
   "cell_type": "code",
   "execution_count": 2,
   "metadata": {},
   "outputs": [],
   "source": [
    "number1 = 109\n",
    "number2 = 10"
   ]
  },
  {
   "cell_type": "code",
   "execution_count": 3,
   "metadata": {},
   "outputs": [],
   "source": [
    "def subtractions(num1, num2):\n",
    "     output = num2 - num1\n",
    "     return output"
   ]
  },
  {
   "cell_type": "code",
   "execution_count": 4,
   "metadata": {},
   "outputs": [
    {
     "name": "stdout",
     "output_type": "stream",
     "text": [
      "-99\n"
     ]
    }
   ],
   "source": [
    "subtractions = subtractions(number1, number2)\n",
    "print(subtractions)"
   ]
  },
  {
   "cell_type": "markdown",
   "metadata": {},
   "source": [
    "## List comprehensions"
   ]
  },
  {
   "cell_type": "code",
   "execution_count": 5,
   "metadata": {},
   "outputs": [
    {
     "name": "stdout",
     "output_type": "stream",
     "text": [
      "[5, 7, 9]\n"
     ]
    }
   ],
   "source": [
    "large_list = [item for item in my_numerical_list if item > 3]\n",
    "print(large_list)"
   ]
  },
  {
   "cell_type": "code",
   "execution_count": 6,
   "metadata": {},
   "outputs": [
    {
     "name": "stdout",
     "output_type": "stream",
     "text": [
      "['I just moved back home', ' Then, I got married!']\n"
     ]
    }
   ],
   "source": [
    "my_string = 'I just moved back home. Then, I got married!'\n",
    "my_string_split = my_string.split('.')\n",
    "print(my_string_split)"
   ]
  },
  {
   "cell_type": "code",
   "execution_count": 7,
   "metadata": {},
   "outputs": [
    {
     "data": {
      "text/plain": [
       "['i', 'just', 'moved', 'back', 'home', 'then,', 'i', 'got', 'married!']"
      ]
     },
     "execution_count": 7,
     "metadata": {},
     "output_type": "execute_result"
    }
   ],
   "source": [
    "def cleanWord(word):\n",
    "    return word.lower().replace('.','')\n",
    "\n",
    "cleanWord(my_string).split()"
   ]
  },
  {
   "cell_type": "code",
   "execution_count": 8,
   "metadata": {},
   "outputs": [
    {
     "data": {
      "text/plain": [
       "['just', 'moved', 'back', 'home', 'then,', 'married!']"
      ]
     },
     "execution_count": 8,
     "metadata": {},
     "output_type": "execute_result"
    }
   ],
   "source": [
    "[cleanWord(word) for word in my_string.split() if len(cleanWord(word)) > 3]"
   ]
  },
  {
   "cell_type": "code",
   "execution_count": 9,
   "metadata": {},
   "outputs": [
    {
     "data": {
      "text/plain": [
       "[['i', 'just', 'moved', 'back', 'home'], ['then,', 'i', 'got', 'married!']]"
      ]
     },
     "execution_count": 9,
     "metadata": {},
     "output_type": "execute_result"
    }
   ],
   "source": [
    "#Nested list comprehensions - split by word then sentence (computer reads left to right)\n",
    "\n",
    "[[cleanWord(word) for word in sentence.split()] for sentence in my_string.split('.')]"
   ]
  },
  {
   "cell_type": "markdown",
   "metadata": {},
   "source": [
    "## Dictionary comprehensions"
   ]
  },
  {
   "cell_type": "code",
   "execution_count": 10,
   "metadata": {},
   "outputs": [],
   "source": [
    "#List of tuples\n",
    "animal_list =[('a', 'ant eater'), ('b', 'bee'), ('c', 'cat'), ('d', 'deer')]"
   ]
  },
  {
   "cell_type": "code",
   "execution_count": 11,
   "metadata": {},
   "outputs": [
    {
     "data": {
      "text/plain": [
       "{'a': 'ant eater', 'b': 'bee', 'c': 'cat', 'd': 'deer'}"
      ]
     },
     "execution_count": 11,
     "metadata": {},
     "output_type": "execute_result"
    }
   ],
   "source": [
    "animals = {key: value for key, value in animal_list}\n",
    "animals"
   ]
  },
  {
   "cell_type": "code",
   "execution_count": 12,
   "metadata": {},
   "outputs": [
    {
     "data": {
      "text/plain": [
       "dict_items([('a', 'ant eater'), ('b', 'bee'), ('c', 'cat'), ('d', 'deer')])"
      ]
     },
     "execution_count": 12,
     "metadata": {},
     "output_type": "execute_result"
    }
   ],
   "source": [
    "animals.items()"
   ]
  },
  {
   "cell_type": "code",
   "execution_count": 13,
   "metadata": {},
   "outputs": [
    {
     "data": {
      "text/plain": [
       "[('a', 'ant eater'), ('b', 'bee'), ('c', 'cat'), ('d', 'deer')]"
      ]
     },
     "execution_count": 13,
     "metadata": {},
     "output_type": "execute_result"
    }
   ],
   "source": [
    "list(animals.items())"
   ]
  },
  {
   "cell_type": "code",
   "execution_count": 14,
   "metadata": {},
   "outputs": [
    {
     "data": {
      "text/plain": [
       "[{'letter': 'a', 'name': 'ant eater'},\n",
       " {'letter': 'b', 'name': 'bee'},\n",
       " {'letter': 'c', 'name': 'cat'},\n",
       " {'letter': 'd', 'name': 'deer'}]"
      ]
     },
     "execution_count": 14,
     "metadata": {},
     "output_type": "execute_result"
    }
   ],
   "source": [
    "#For keys and values you can assign a string and loop through items in the dict to apply\n",
    "[{'letter': key, 'name': value} for key, value in animals.items()]"
   ]
  },
  {
   "cell_type": "markdown",
   "metadata": {},
   "source": [
    "## Coding challenge \n",
    "Encode and decode a string of text"
   ]
  },
  {
   "cell_type": "code",
   "execution_count": 19,
   "metadata": {},
   "outputs": [],
   "source": [
    "stringVal = 'AAAABBBBCCCCDDDDD'"
   ]
  },
  {
   "cell_type": "code",
   "execution_count": 16,
   "metadata": {},
   "outputs": [],
   "source": [
    "def encodeString(stringVal):\n",
    "    # Create an empty list to hold the tuples\n",
    "    result = []\n",
    "    \n",
    "    # Use a dictionary to count occurrences of each character\n",
    "    count_dict = {}\n",
    "    \n",
    "    for char in stringVal:\n",
    "        if char in count_dict:\n",
    "            count_dict[char] += 1\n",
    "        else:\n",
    "            count_dict[char] = 1\n",
    "            \n",
    "    # Convert the dictionary to a list of tuples\n",
    "    for char, count in count_dict.items():\n",
    "        result.append((char, count))\n",
    "        \n",
    "    return result"
   ]
  },
  {
   "cell_type": "code",
   "execution_count": 34,
   "metadata": {},
   "outputs": [],
   "source": [
    "def decodeString(encodedList):\n",
    "    #Create an empty string\n",
    "    decodeList =''\n",
    "\n",
    "    #Loop through tupled list and add the multiplication to the decoded list\n",
    "    for key, value in encodedList:\n",
    "        decodeList += key * value\n",
    "   \n",
    "    return decodeList"
   ]
  },
  {
   "cell_type": "code",
   "execution_count": 29,
   "metadata": {},
   "outputs": [
    {
     "name": "stdout",
     "output_type": "stream",
     "text": [
      "[('A', 4), ('B', 4), ('C', 4), ('D', 5)]\n"
     ]
    }
   ],
   "source": [
    "encoded_string = encodeString(stringVal)\n",
    "print(encoded_string)"
   ]
  },
  {
   "cell_type": "code",
   "execution_count": 37,
   "metadata": {},
   "outputs": [
    {
     "data": {
      "text/plain": [
       "'AAAABBBBCCCCDDDDD'"
      ]
     },
     "execution_count": 37,
     "metadata": {},
     "output_type": "execute_result"
    }
   ],
   "source": [
    "decodeString(encoded_string)"
   ]
  },
  {
   "cell_type": "markdown",
   "metadata": {},
   "source": [
    "## Conditional statements\n",
    "Covering If, While and For"
   ]
  },
  {
   "cell_type": "markdown",
   "metadata": {},
   "source": [
    "#### If statement\n",
    "Challenge: In a range from 0 - 100, if the n is divisible by 10 print ('buzz'), if n is divisible by 3 print 'fizz', if n is divisable by 15 print 'FizzBuzz'"
   ]
  },
  {
   "cell_type": "code",
   "execution_count": 39,
   "metadata": {},
   "outputs": [
    {
     "name": "stdout",
     "output_type": "stream",
     "text": [
      "1\n",
      "2\n",
      "Fizz\n",
      "4\n",
      "5\n",
      "Fizz\n",
      "7\n",
      "8\n",
      "Fizz\n",
      "Buzz\n",
      "11\n",
      "Fizz\n",
      "13\n",
      "14\n",
      "FizzBuzz\n",
      "16\n",
      "17\n",
      "Fizz\n",
      "19\n",
      "Buzz\n",
      "Fizz\n",
      "22\n",
      "23\n",
      "Fizz\n",
      "25\n",
      "26\n",
      "Fizz\n",
      "28\n",
      "29\n",
      "FizzBuzz\n",
      "31\n",
      "32\n",
      "Fizz\n",
      "34\n",
      "35\n",
      "Fizz\n",
      "37\n",
      "38\n",
      "Fizz\n",
      "Buzz\n",
      "41\n",
      "Fizz\n",
      "43\n",
      "44\n",
      "FizzBuzz\n",
      "46\n",
      "47\n",
      "Fizz\n",
      "49\n",
      "Buzz\n",
      "Fizz\n",
      "52\n",
      "53\n",
      "Fizz\n",
      "55\n",
      "56\n",
      "Fizz\n",
      "58\n",
      "59\n",
      "FizzBuzz\n",
      "61\n",
      "62\n",
      "Fizz\n",
      "64\n",
      "65\n",
      "Fizz\n",
      "67\n",
      "68\n",
      "Fizz\n",
      "Buzz\n",
      "71\n",
      "Fizz\n",
      "73\n",
      "74\n",
      "FizzBuzz\n",
      "76\n",
      "77\n",
      "Fizz\n",
      "79\n",
      "Buzz\n",
      "Fizz\n",
      "82\n",
      "83\n",
      "Fizz\n",
      "85\n",
      "86\n",
      "Fizz\n",
      "88\n",
      "89\n",
      "FizzBuzz\n",
      "91\n",
      "92\n",
      "Fizz\n",
      "94\n",
      "95\n",
      "Fizz\n",
      "97\n",
      "98\n",
      "Fizz\n",
      "Buzz\n"
     ]
    }
   ],
   "source": [
    "for n in range(1,101):\n",
    "    if n % 15 == 0:\n",
    "        print('FizzBuzz')\n",
    "    else: \n",
    "        if n % 10 == 0:\n",
    "            print('Buzz')\n",
    "        else:\n",
    "            if n % 3 == 0:\n",
    "                print('Fizz')\n",
    "            else:\n",
    "                print(n)"
   ]
  },
  {
   "cell_type": "markdown",
   "metadata": {},
   "source": [
    "#### Elif statement\n",
    "Simplify the challenge output\n",
    "\n",
    "- elif must always proceed an if statement\n",
    "- else is optional"
   ]
  },
  {
   "cell_type": "code",
   "execution_count": 40,
   "metadata": {},
   "outputs": [
    {
     "name": "stdout",
     "output_type": "stream",
     "text": [
      "1\n",
      "2\n",
      "Fizz\n",
      "4\n",
      "5\n",
      "Fizz\n",
      "7\n",
      "8\n",
      "Fizz\n",
      "Buzz\n",
      "11\n",
      "Fizz\n",
      "13\n",
      "14\n",
      "FizzBuzz\n",
      "16\n",
      "17\n",
      "Fizz\n",
      "19\n",
      "Buzz\n",
      "Fizz\n",
      "22\n",
      "23\n",
      "Fizz\n",
      "25\n",
      "26\n",
      "Fizz\n",
      "28\n",
      "29\n",
      "FizzBuzz\n",
      "31\n",
      "32\n",
      "Fizz\n",
      "34\n",
      "35\n",
      "Fizz\n",
      "37\n",
      "38\n",
      "Fizz\n",
      "Buzz\n",
      "41\n",
      "Fizz\n",
      "43\n",
      "44\n",
      "FizzBuzz\n",
      "46\n",
      "47\n",
      "Fizz\n",
      "49\n",
      "Buzz\n",
      "Fizz\n",
      "52\n",
      "53\n",
      "Fizz\n",
      "55\n",
      "56\n",
      "Fizz\n",
      "58\n",
      "59\n",
      "FizzBuzz\n",
      "61\n",
      "62\n",
      "Fizz\n",
      "64\n",
      "65\n",
      "Fizz\n",
      "67\n",
      "68\n",
      "Fizz\n",
      "Buzz\n",
      "71\n",
      "Fizz\n",
      "73\n",
      "74\n",
      "FizzBuzz\n",
      "76\n",
      "77\n",
      "Fizz\n",
      "79\n",
      "Buzz\n",
      "Fizz\n",
      "82\n",
      "83\n",
      "Fizz\n",
      "85\n",
      "86\n",
      "Fizz\n",
      "88\n",
      "89\n",
      "FizzBuzz\n",
      "91\n",
      "92\n",
      "Fizz\n",
      "94\n",
      "95\n",
      "Fizz\n",
      "97\n",
      "98\n",
      "Fizz\n",
      "Buzz\n"
     ]
    }
   ],
   "source": [
    "for n in range(1,101):\n",
    "    if n % 15 == 0:\n",
    "        print('FizzBuzz')\n",
    "    elif n % 10 == 0:\n",
    "        print('Buzz')\n",
    "    elif n % 3 == 0:\n",
    "        print('Fizz')\n",
    "    else:\n",
    "        print(n)"
   ]
  },
  {
   "cell_type": "markdown",
   "metadata": {},
   "source": [
    "#### Single line if statement\n",
    "- known as a ternary operator.. takes in a boolean condition, returns one value if true, another if false\n",
    "- order of statements seem to matter"
   ]
  },
  {
   "cell_type": "code",
   "execution_count": 42,
   "metadata": {},
   "outputs": [
    {
     "name": "stdout",
     "output_type": "stream",
     "text": [
      "Fizz\n"
     ]
    }
   ],
   "source": [
    "n = 10\n",
    "\n",
    "print('Fizz' if n % 5 == 0 else n)"
   ]
  },
  {
   "cell_type": "code",
   "execution_count": 44,
   "metadata": {},
   "outputs": [
    {
     "data": {
      "text/plain": [
       "'FizzBuzz'"
      ]
     },
     "execution_count": 44,
     "metadata": {},
     "output_type": "execute_result"
    }
   ],
   "source": [
    "'FizzBuzz' if n % 5 == 0 and n % 10 == 0 else 'Fizz' if n % 5 == 0 else 'Buzz' if n % 10 == 0 else print(n)"
   ]
  },
  {
   "cell_type": "code",
   "execution_count": 46,
   "metadata": {},
   "outputs": [
    {
     "data": {
      "text/plain": [
       "[1,\n",
       " 2,\n",
       " 3,\n",
       " 4,\n",
       " 'Fizz',\n",
       " 6,\n",
       " 7,\n",
       " 8,\n",
       " 9,\n",
       " 'FizzBuzz',\n",
       " 11,\n",
       " 12,\n",
       " 13,\n",
       " 14,\n",
       " 'Fizz',\n",
       " 16,\n",
       " 17,\n",
       " 18,\n",
       " 19,\n",
       " 'FizzBuzz',\n",
       " 21,\n",
       " 22,\n",
       " 23,\n",
       " 24,\n",
       " 'Fizz',\n",
       " 26,\n",
       " 27,\n",
       " 28,\n",
       " 29,\n",
       " 'FizzBuzz',\n",
       " 31,\n",
       " 32,\n",
       " 33,\n",
       " 34,\n",
       " 'Fizz',\n",
       " 36,\n",
       " 37,\n",
       " 38,\n",
       " 39,\n",
       " 'FizzBuzz',\n",
       " 41,\n",
       " 42,\n",
       " 43,\n",
       " 44,\n",
       " 'Fizz',\n",
       " 46,\n",
       " 47,\n",
       " 48,\n",
       " 49,\n",
       " 'FizzBuzz',\n",
       " 51,\n",
       " 52,\n",
       " 53,\n",
       " 54,\n",
       " 'Fizz',\n",
       " 56,\n",
       " 57,\n",
       " 58,\n",
       " 59,\n",
       " 'FizzBuzz',\n",
       " 61,\n",
       " 62,\n",
       " 63,\n",
       " 64,\n",
       " 'Fizz',\n",
       " 66,\n",
       " 67,\n",
       " 68,\n",
       " 69,\n",
       " 'FizzBuzz',\n",
       " 71,\n",
       " 72,\n",
       " 73,\n",
       " 74,\n",
       " 'Fizz',\n",
       " 76,\n",
       " 77,\n",
       " 78,\n",
       " 79,\n",
       " 'FizzBuzz',\n",
       " 81,\n",
       " 82,\n",
       " 83,\n",
       " 84,\n",
       " 'Fizz',\n",
       " 86,\n",
       " 87,\n",
       " 88,\n",
       " 89,\n",
       " 'FizzBuzz',\n",
       " 91,\n",
       " 92,\n",
       " 93,\n",
       " 94,\n",
       " 'Fizz',\n",
       " 96,\n",
       " 97,\n",
       " 98,\n",
       " 99,\n",
       " 'FizzBuzz']"
      ]
     },
     "execution_count": 46,
     "metadata": {},
     "output_type": "execute_result"
    }
   ],
   "source": [
    "#Can create a list\n",
    "['FizzBuzz' if n % 5 == 0 and n % 10 == 0 else 'Fizz' if n % 5 == 0 else 'Buzz' if n % 10 == 0 else n for n in range (1, 101)]"
   ]
  },
  {
   "cell_type": "markdown",
   "metadata": {},
   "source": [
    "#### While loops\n",
    "- can go on infinently if you dont close the loop\n",
    "- Always need something after the while statement (closing statement)\n",
    "    - you can use pass function (want to come back and fill in later?)\n",
    "- best demonstrated with dates"
   ]
  },
  {
   "cell_type": "code",
   "execution_count": 50,
   "metadata": {},
   "outputs": [],
   "source": [
    "from datetime import datetime"
   ]
  },
  {
   "cell_type": "code",
   "execution_count": 53,
   "metadata": {},
   "outputs": [
    {
     "data": {
      "text/plain": [
       "6"
      ]
     },
     "execution_count": 53,
     "metadata": {},
     "output_type": "execute_result"
    }
   ],
   "source": [
    "datetime.now().second"
   ]
  },
  {
   "cell_type": "code",
   "execution_count": 54,
   "metadata": {},
   "outputs": [
    {
     "name": "stdout",
     "output_type": "stream",
     "text": [
      "We are now at 30 seconds!\n"
     ]
    }
   ],
   "source": [
    "wait_until = (datetime.now().second + 5) % 60\n",
    "\n",
    "while datetime.now().second != wait_until:\n",
    "    pass\n",
    "print(f'We are now at {wait_until} seconds!')\n"
   ]
  },
  {
   "cell_type": "code",
   "execution_count": 57,
   "metadata": {},
   "outputs": [
    {
     "name": "stdout",
     "output_type": "stream",
     "text": [
      "We are now at 11 seconds!\n"
     ]
    }
   ],
   "source": [
    "wait_until = (datetime.now().second + 5) % 60\n",
    "\n",
    "#Break statement breaks out of current loop its in\n",
    "while True:\n",
    "    if datetime.now().second != wait_until:\n",
    "        print(f'We are now at {wait_until} seconds!')\n",
    "        break\n"
   ]
  },
  {
   "cell_type": "code",
   "execution_count": 63,
   "metadata": {},
   "outputs": [
    {
     "ename": "KeyboardInterrupt",
     "evalue": "",
     "output_type": "error",
     "traceback": [
      "\u001b[0;31m---------------------------------------------------------------------------\u001b[0m",
      "\u001b[0;31mKeyboardInterrupt\u001b[0m                         Traceback (most recent call last)",
      "Cell \u001b[0;32mIn[63], line 4\u001b[0m\n\u001b[1;32m      2\u001b[0m \u001b[38;5;66;03m#Will loop through infinetely and not reach an end\u001b[39;00m\n\u001b[1;32m      3\u001b[0m \u001b[38;5;28;01mwhile\u001b[39;00m \u001b[38;5;28;01mTrue\u001b[39;00m:\n\u001b[0;32m----> 4\u001b[0m     \u001b[38;5;28;01mif\u001b[39;00m \u001b[43mdatetime\u001b[49m\u001b[38;5;241;43m.\u001b[39;49m\u001b[43mnow\u001b[49m\u001b[43m(\u001b[49m\u001b[43m)\u001b[49m\u001b[38;5;241m.\u001b[39msecond \u001b[38;5;241m==\u001b[39m wait_until:\n\u001b[1;32m      5\u001b[0m         \u001b[38;5;28mprint\u001b[39m(\u001b[38;5;124mf\u001b[39m\u001b[38;5;124m'\u001b[39m\u001b[38;5;124mWe are now at \u001b[39m\u001b[38;5;132;01m{\u001b[39;00mwait_until\u001b[38;5;132;01m}\u001b[39;00m\u001b[38;5;124m seconds!\u001b[39m\u001b[38;5;124m'\u001b[39m)\n",
      "\u001b[0;31mKeyboardInterrupt\u001b[0m: "
     ]
    }
   ],
   "source": [
    "wait_until = (datetime.now().second + 5) % 60\n",
    "#Will loop through infinetely and not reach an end\n",
    "while True:\n",
    "    if datetime.now().second == wait_until:\n",
    "        print(f'We are now at {wait_until} seconds!')\n"
   ]
  },
  {
   "cell_type": "markdown",
   "metadata": {},
   "source": [
    "#### Continue\n",
    "- Skips any lines that follow it inside the while loop\n",
    "- stops code from being executed, only if some condition is met\n",
    "- can help you read and write code more clearly"
   ]
  },
  {
   "cell_type": "code",
   "execution_count": 61,
   "metadata": {},
   "outputs": [
    {
     "name": "stdout",
     "output_type": "stream",
     "text": [
      "we are at 50 seconds!\n"
     ]
    }
   ],
   "source": [
    "#Loops through the code, skips over the break and print until condition is met then it breaks then prints\n",
    "while True:\n",
    "    if datetime.now().second < wait_until:\n",
    "        continue\n",
    "    break\n",
    "print(f'we are at {wait_until} seconds!')"
   ]
  },
  {
   "cell_type": "markdown",
   "metadata": {},
   "source": [
    "#### For Loops\n",
    "- Allows you to declare new variable to hold items in your loop"
   ]
  },
  {
   "cell_type": "code",
   "execution_count": 62,
   "metadata": {},
   "outputs": [
    {
     "name": "stdout",
     "output_type": "stream",
     "text": [
      "1\n",
      "2\n",
      "3\n",
      "4\n",
      "5\n",
      "6\n",
      "7\n",
      "8\n",
      "9\n"
     ]
    }
   ],
   "source": [
    "my_list = [1,2,3,4,5,6,7,8,9]\n",
    "\n",
    "for items in my_list:\n",
    "    print(items)"
   ]
  },
  {
   "cell_type": "code",
   "execution_count": 71,
   "metadata": {},
   "outputs": [],
   "source": [
    "animals_dict = {\n",
    "    'a': ['ant eater', 'ant'], \n",
    "    'b': ['bee'],\n",
    "    'c': ['cat'],\n",
    "    'd': ['deer']\n",
    "}"
   ]
  },
  {
   "cell_type": "code",
   "execution_count": 73,
   "metadata": {},
   "outputs": [
    {
     "name": "stdout",
     "output_type": "stream",
     "text": [
      "only 1 animal!['bee']\n",
      "only 1 animal!['cat']\n",
      "only 1 animal!['deer']\n"
     ]
    }
   ],
   "source": [
    "#Continue\n",
    "for letter, animals in animals_dict.items():\n",
    "    if len(animals) > 1:\n",
    "        continue\n",
    "    print(f'only 1 animal!{animals}')"
   ]
  },
  {
   "cell_type": "code",
   "execution_count": 82,
   "metadata": {},
   "outputs": [
    {
     "name": "stdout",
     "output_type": "stream",
     "text": [
      "Found 2 animals in the letter A with animals ['ant eater', 'ant']!\n"
     ]
    }
   ],
   "source": [
    "#Break\n",
    "for letter, animals in animals_dict.items():\n",
    "    if len(animals) > 1:\n",
    "        print(f'Found {len(animals)} animals in the letter {letter.upper()} with animals {animals}!')\n",
    "    break"
   ]
  },
  {
   "cell_type": "markdown",
   "metadata": {},
   "source": [
    "#### For/Else statement"
   ]
  },
  {
   "cell_type": "code",
   "execution_count": 83,
   "metadata": {},
   "outputs": [
    {
     "name": "stdout",
     "output_type": "stream",
     "text": [
      "1 is a prime!\n",
      "2 is a prime!\n",
      "3 is a prime!\n",
      "5 is a prime!\n",
      "7 is a prime!\n",
      "11 is a prime!\n",
      "13 is a prime!\n",
      "17 is a prime!\n",
      "19 is a prime!\n",
      "23 is a prime!\n",
      "29 is a prime!\n",
      "31 is a prime!\n",
      "37 is a prime!\n",
      "41 is a prime!\n",
      "43 is a prime!\n",
      "47 is a prime!\n",
      "53 is a prime!\n",
      "59 is a prime!\n",
      "61 is a prime!\n",
      "67 is a prime!\n",
      "71 is a prime!\n",
      "73 is a prime!\n",
      "79 is a prime!\n",
      "83 is a prime!\n",
      "89 is a prime!\n",
      "97 is a prime!\n"
     ]
    }
   ],
   "source": [
    "for number in range(1,101):\n",
    "    for factor in range(2, int(number**0.5) + 1):\n",
    "        if number % factor == 0:\n",
    "            break\n",
    "    else:\n",
    "        print(f'{number} is a prime!')"
   ]
  },
  {
   "cell_type": "markdown",
   "metadata": {},
   "source": [
    "## Functions\n",
    "- To include a default value in an argument, include it in the beggining statement\n",
    "- Key word arguments must come after positional arguments\n",
    "    - First arguments, the order matters a lot, optional arguments can come later\n",
    "- *args allows anything to be passed into a function as a variable"
   ]
  },
  {
   "cell_type": "code",
   "execution_count": 97,
   "metadata": {},
   "outputs": [],
   "source": [
    "import math"
   ]
  },
  {
   "cell_type": "code",
   "execution_count": 88,
   "metadata": {},
   "outputs": [],
   "source": [
    "def performOperation(num1, num2, operation='sum'):\n",
    "    if operation == 'sum':\n",
    "        return num1 + num2\n",
    "    if operation == 'subtract':\n",
    "        return num1 - num2"
   ]
  },
  {
   "cell_type": "code",
   "execution_count": 90,
   "metadata": {},
   "outputs": [
    {
     "data": {
      "text/plain": [
       "73"
      ]
     },
     "execution_count": 90,
     "metadata": {},
     "output_type": "execute_result"
    }
   ],
   "source": [
    "performOperation(50, 23)"
   ]
  },
  {
   "cell_type": "markdown",
   "metadata": {},
   "source": [
    "#### *args"
   ]
  },
  {
   "cell_type": "code",
   "execution_count": 92,
   "metadata": {},
   "outputs": [
    {
     "name": "stdout",
     "output_type": "stream",
     "text": [
      "(1, 2, 3)\n"
     ]
    }
   ],
   "source": [
    "def performOperation(*args):\n",
    "    print(args)\n",
    "\n",
    "performOperation(1,2,3)"
   ]
  },
  {
   "cell_type": "code",
   "execution_count": 93,
   "metadata": {},
   "outputs": [
    {
     "ename": "TypeError",
     "evalue": "performOperation() got an unexpected keyword argument 'operation'",
     "output_type": "error",
     "traceback": [
      "\u001b[0;31m---------------------------------------------------------------------------\u001b[0m",
      "\u001b[0;31mTypeError\u001b[0m                                 Traceback (most recent call last)",
      "Cell \u001b[0;32mIn[93], line 1\u001b[0m\n\u001b[0;32m----> 1\u001b[0m \u001b[43mperformOperation\u001b[49m\u001b[43m(\u001b[49m\u001b[38;5;241;43m1\u001b[39;49m\u001b[43m,\u001b[49m\u001b[38;5;241;43m2\u001b[39;49m\u001b[43m,\u001b[49m\u001b[38;5;241;43m3\u001b[39;49m\u001b[43m,\u001b[49m\u001b[43m \u001b[49m\u001b[43moperation\u001b[49m\u001b[43m \u001b[49m\u001b[38;5;241;43m=\u001b[39;49m\u001b[43m \u001b[49m\u001b[38;5;124;43m'\u001b[39;49m\u001b[38;5;124;43msum\u001b[39;49m\u001b[38;5;124;43m'\u001b[39;49m\u001b[43m)\u001b[49m\n",
      "\u001b[0;31mTypeError\u001b[0m: performOperation() got an unexpected keyword argument 'operation'"
     ]
    }
   ],
   "source": [
    "performOperation(1,2,3, operation = 'sum')"
   ]
  },
  {
   "cell_type": "markdown",
   "metadata": {},
   "source": [
    "#### *kwargs\n",
    "- Allows the input of keyword arguments as a dict instead of tuple"
   ]
  },
  {
   "cell_type": "code",
   "execution_count": 96,
   "metadata": {},
   "outputs": [
    {
     "name": "stdout",
     "output_type": "stream",
     "text": [
      "(1, 2, 3) {'operation': 'sum'}\n"
     ]
    }
   ],
   "source": [
    "def performOperation(*args, **kwargs):\n",
    "    print(args, kwargs)\n",
    "performOperation(1,2,3, operation = 'sum')"
   ]
  },
  {
   "cell_type": "code",
   "execution_count": 101,
   "metadata": {},
   "outputs": [
    {
     "data": {
      "text/plain": [
       "162"
      ]
     },
     "execution_count": 101,
     "metadata": {},
     "output_type": "execute_result"
    }
   ],
   "source": [
    "def performOperation(*args, operation='sum'):\n",
    "    if operation == 'sum':\n",
    "        return sum(args)\n",
    "    if operation == 'multiply':\n",
    "        return math.prod(args)\n",
    "    \n",
    "performOperation(3,6,9, operation = 'multiply')"
   ]
  },
  {
   "cell_type": "markdown",
   "metadata": {},
   "source": [
    "### Variables"
   ]
  },
  {
   "cell_type": "markdown",
   "metadata": {},
   "source": [
    "#### locals()\n",
    "- Things that are defined inside of the function"
   ]
  },
  {
   "cell_type": "code",
   "execution_count": 104,
   "metadata": {},
   "outputs": [
    {
     "name": "stdout",
     "output_type": "stream",
     "text": [
      "{'num1': 3, 'num2': 6, 'operation': 'multiply'}\n"
     ]
    }
   ],
   "source": [
    "def performOperation(num1, num2, operation='sum'):\n",
    "    print(locals())\n",
    "\n",
    "performOperation(3,6, operation = 'multiply')"
   ]
  },
  {
   "cell_type": "markdown",
   "metadata": {},
   "source": [
    "#### globals()\n",
    "- Defined outside the function in a main body of code\n",
    "- example: A variable set earlier on ie animal_dict, a function can access"
   ]
  },
  {
   "cell_type": "code",
   "execution_count": null,
   "metadata": {},
   "outputs": [],
   "source": [
    "globals()"
   ]
  },
  {
   "cell_type": "markdown",
   "metadata": {},
   "source": [
    "#### local and global Scope\n",
    "- Scope - access to all the variables you have\n",
    "- Functions can not access each others variables set, unless specified with function.variable()\n",
    "- Checks local scope first, then global \n",
    "    - Avoid duplication of variable names"
   ]
  },
  {
   "cell_type": "code",
   "execution_count": 112,
   "metadata": {},
   "outputs": [],
   "source": [
    "#The use of global variables and local\n",
    "message = 'Some global data'\n",
    "\n",
    "def function1(VarA, VarB):\n",
    "    print(message)\n",
    "    print(locals())\n",
    "\n",
    "def function2(VarC, VarB):\n",
    "    print(message)\n",
    "    print(locals())"
   ]
  },
  {
   "cell_type": "code",
   "execution_count": 111,
   "metadata": {},
   "outputs": [
    {
     "name": "stdout",
     "output_type": "stream",
     "text": [
      "Some global data\n",
      "{'VarA': 1, 'VarB': 2}\n",
      "Some global data\n",
      "{'VarC': 3, 'VarB': 4}\n"
     ]
    }
   ],
   "source": [
    "function1(1,2)\n",
    "function2(3,4)"
   ]
  },
  {
   "cell_type": "code",
   "execution_count": 113,
   "metadata": {},
   "outputs": [],
   "source": [
    "def function1(VarA, VarB):\n",
    "    message = 'I love python!'\n",
    "    print(message)\n",
    "    print(locals())\n",
    "\n",
    "def function2(VarC, VarB):\n",
    "    print(message)\n",
    "    print(locals())"
   ]
  },
  {
   "cell_type": "code",
   "execution_count": 116,
   "metadata": {},
   "outputs": [
    {
     "name": "stdout",
     "output_type": "stream",
     "text": [
      "I love python!\n",
      "{'VarA': 1, 'VarB': 2, 'message': 'I love python!'}\n",
      "Some global data\n",
      "{'VarC': 3, 'VarB': 4}\n"
     ]
    }
   ],
   "source": [
    "#Function 1 prints local message\n",
    "function1(1,2)\n",
    "\n",
    "#Function 2 prints global message\n",
    "function2(3,4)"
   ]
  },
  {
   "cell_type": "code",
   "execution_count": 121,
   "metadata": {},
   "outputs": [
    {
     "name": "stdout",
     "output_type": "stream",
     "text": [
      "I love python!\n",
      "3\n",
      "Inner local scope: {'VarA': 12, 'VarB': 34}\n"
     ]
    }
   ],
   "source": [
    "def function1(VarA, VarB):\n",
    "    message = 'I love python!'\n",
    "    print(message)\n",
    "    print(VarA + VarB)\n",
    "    def inner_function(VarA, VarB):\n",
    "        print(f'Inner local scope: {locals()}')\n",
    "    inner_function(12, 34)\n",
    "\n",
    "function1(1, 2)"
   ]
  }
 ],
 "metadata": {
  "kernelspec": {
   "display_name": "venv",
   "language": "python",
   "name": "python3"
  },
  "language_info": {
   "codemirror_mode": {
    "name": "ipython",
    "version": 3
   },
   "file_extension": ".py",
   "mimetype": "text/x-python",
   "name": "python",
   "nbconvert_exporter": "python",
   "pygments_lexer": "ipython3",
   "version": "3.9.2"
  }
 },
 "nbformat": 4,
 "nbformat_minor": 2
}
