{
 "cells": [
  {
   "cell_type": "markdown",
   "metadata": {},
   "source": [
    "# Getting started with python locally\n",
    "Starting with the basics"
   ]
  },
  {
   "cell_type": "code",
   "execution_count": 1,
   "metadata": {},
   "outputs": [],
   "source": [
    "my_numerical_list = [1,3,5,7,9]"
   ]
  },
  {
   "cell_type": "code",
   "execution_count": 2,
   "metadata": {},
   "outputs": [],
   "source": [
    "number1 = 109\n",
    "number2 = 10"
   ]
  },
  {
   "cell_type": "code",
   "execution_count": 3,
   "metadata": {},
   "outputs": [],
   "source": [
    "def subtractions(num1, num2):\n",
    "     output = num2 - num1\n",
    "     return output"
   ]
  },
  {
   "cell_type": "code",
   "execution_count": 4,
   "metadata": {},
   "outputs": [
    {
     "name": "stdout",
     "output_type": "stream",
     "text": [
      "-99\n"
     ]
    }
   ],
   "source": [
    "subtractions = subtractions(number1, number2)\n",
    "print(subtractions)"
   ]
  },
  {
   "cell_type": "markdown",
   "metadata": {},
   "source": [
    "## List comprehensions"
   ]
  },
  {
   "cell_type": "code",
   "execution_count": 5,
   "metadata": {},
   "outputs": [
    {
     "name": "stdout",
     "output_type": "stream",
     "text": [
      "[5, 7, 9]\n"
     ]
    }
   ],
   "source": [
    "large_list = [item for item in my_numerical_list if item > 3]\n",
    "print(large_list)"
   ]
  },
  {
   "cell_type": "code",
   "execution_count": 6,
   "metadata": {},
   "outputs": [
    {
     "name": "stdout",
     "output_type": "stream",
     "text": [
      "['I just moved back home', ' Then, I got married!']\n"
     ]
    }
   ],
   "source": [
    "my_string = 'I just moved back home. Then, I got married!'\n",
    "my_string_split = my_string.split('.')\n",
    "print(my_string_split)"
   ]
  },
  {
   "cell_type": "code",
   "execution_count": 7,
   "metadata": {},
   "outputs": [
    {
     "data": {
      "text/plain": [
       "['i', 'just', 'moved', 'back', 'home', 'then,', 'i', 'got', 'married!']"
      ]
     },
     "execution_count": 7,
     "metadata": {},
     "output_type": "execute_result"
    }
   ],
   "source": [
    "def cleanWord(word):\n",
    "    return word.lower().replace('.','')\n",
    "\n",
    "cleanWord(my_string).split()"
   ]
  },
  {
   "cell_type": "code",
   "execution_count": 8,
   "metadata": {},
   "outputs": [
    {
     "data": {
      "text/plain": [
       "['just', 'moved', 'back', 'home', 'then,', 'married!']"
      ]
     },
     "execution_count": 8,
     "metadata": {},
     "output_type": "execute_result"
    }
   ],
   "source": [
    "[cleanWord(word) for word in my_string.split() if len(cleanWord(word)) > 3]"
   ]
  },
  {
   "cell_type": "code",
   "execution_count": 9,
   "metadata": {},
   "outputs": [
    {
     "data": {
      "text/plain": [
       "[['i', 'just', 'moved', 'back', 'home'], ['then,', 'i', 'got', 'married!']]"
      ]
     },
     "execution_count": 9,
     "metadata": {},
     "output_type": "execute_result"
    }
   ],
   "source": [
    "#Nested list comprehensions - split by word then sentence (computer reads left to right)\n",
    "\n",
    "[[cleanWord(word) for word in sentence.split()] for sentence in my_string.split('.')]"
   ]
  },
  {
   "cell_type": "markdown",
   "metadata": {},
   "source": [
    "## Dictionary comprehensions"
   ]
  },
  {
   "cell_type": "code",
   "execution_count": 10,
   "metadata": {},
   "outputs": [],
   "source": [
    "#List of tuples\n",
    "animal_list =[('a', 'ant eater'), ('b', 'bee'), ('c', 'cat'), ('d', 'deer')]"
   ]
  },
  {
   "cell_type": "code",
   "execution_count": 11,
   "metadata": {},
   "outputs": [
    {
     "data": {
      "text/plain": [
       "{'a': 'ant eater', 'b': 'bee', 'c': 'cat', 'd': 'deer'}"
      ]
     },
     "execution_count": 11,
     "metadata": {},
     "output_type": "execute_result"
    }
   ],
   "source": [
    "animals = {key: value for key, value in animal_list}\n",
    "animals"
   ]
  },
  {
   "cell_type": "code",
   "execution_count": 12,
   "metadata": {},
   "outputs": [
    {
     "data": {
      "text/plain": [
       "dict_items([('a', 'ant eater'), ('b', 'bee'), ('c', 'cat'), ('d', 'deer')])"
      ]
     },
     "execution_count": 12,
     "metadata": {},
     "output_type": "execute_result"
    }
   ],
   "source": [
    "animals.items()"
   ]
  },
  {
   "cell_type": "code",
   "execution_count": 13,
   "metadata": {},
   "outputs": [
    {
     "data": {
      "text/plain": [
       "[('a', 'ant eater'), ('b', 'bee'), ('c', 'cat'), ('d', 'deer')]"
      ]
     },
     "execution_count": 13,
     "metadata": {},
     "output_type": "execute_result"
    }
   ],
   "source": [
    "list(animals.items())"
   ]
  },
  {
   "cell_type": "code",
   "execution_count": 14,
   "metadata": {},
   "outputs": [
    {
     "data": {
      "text/plain": [
       "[{'letter': 'a', 'name': 'ant eater'},\n",
       " {'letter': 'b', 'name': 'bee'},\n",
       " {'letter': 'c', 'name': 'cat'},\n",
       " {'letter': 'd', 'name': 'deer'}]"
      ]
     },
     "execution_count": 14,
     "metadata": {},
     "output_type": "execute_result"
    }
   ],
   "source": [
    "#For keys and values you can assign a string and loop through items in the dict to apply\n",
    "[{'letter': key, 'name': value} for key, value in animals.items()]"
   ]
  },
  {
   "cell_type": "markdown",
   "metadata": {},
   "source": [
    "## Coding challenge \n",
    "Encode and decode a string of text"
   ]
  },
  {
   "cell_type": "code",
   "execution_count": 19,
   "metadata": {},
   "outputs": [],
   "source": [
    "stringVal = 'AAAABBBBCCCCDDDDD'"
   ]
  },
  {
   "cell_type": "code",
   "execution_count": 16,
   "metadata": {},
   "outputs": [],
   "source": [
    "def encodeString(stringVal):\n",
    "    # Create an empty list to hold the tuples\n",
    "    result = []\n",
    "    \n",
    "    # Use a dictionary to count occurrences of each character\n",
    "    count_dict = {}\n",
    "    \n",
    "    for char in stringVal:\n",
    "        if char in count_dict:\n",
    "            count_dict[char] += 1\n",
    "        else:\n",
    "            count_dict[char] = 1\n",
    "            \n",
    "    # Convert the dictionary to a list of tuples\n",
    "    for char, count in count_dict.items():\n",
    "        result.append((char, count))\n",
    "        \n",
    "    return result"
   ]
  },
  {
   "cell_type": "code",
   "execution_count": 34,
   "metadata": {},
   "outputs": [],
   "source": [
    "def decodeString(encodedList):\n",
    "    #Create an empty string\n",
    "    decodeList =''\n",
    "\n",
    "    #Loop through tupled list and add the multiplication to the decoded list\n",
    "    for key, value in encodedList:\n",
    "        decodeList += key * value\n",
    "   \n",
    "    return decodeList"
   ]
  },
  {
   "cell_type": "code",
   "execution_count": 29,
   "metadata": {},
   "outputs": [
    {
     "name": "stdout",
     "output_type": "stream",
     "text": [
      "[('A', 4), ('B', 4), ('C', 4), ('D', 5)]\n"
     ]
    }
   ],
   "source": [
    "encoded_string = encodeString(stringVal)\n",
    "print(encoded_string)"
   ]
  },
  {
   "cell_type": "code",
   "execution_count": 37,
   "metadata": {},
   "outputs": [
    {
     "data": {
      "text/plain": [
       "'AAAABBBBCCCCDDDDD'"
      ]
     },
     "execution_count": 37,
     "metadata": {},
     "output_type": "execute_result"
    }
   ],
   "source": [
    "decodeString(encoded_string)"
   ]
  }
 ],
 "metadata": {
  "kernelspec": {
   "display_name": "venv",
   "language": "python",
   "name": "python3"
  },
  "language_info": {
   "codemirror_mode": {
    "name": "ipython",
    "version": 3
   },
   "file_extension": ".py",
   "mimetype": "text/x-python",
   "name": "python",
   "nbconvert_exporter": "python",
   "pygments_lexer": "ipython3",
   "version": "3.9.2"
  }
 },
 "nbformat": 4,
 "nbformat_minor": 2
}
